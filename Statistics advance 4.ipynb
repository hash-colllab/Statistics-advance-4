{
 "cells": [
  {
   "cell_type": "markdown",
   "id": "b0fd779a-bb9c-4c86-a2cc-d79ff43ba0b0",
   "metadata": {},
   "source": [
    "Answer 1:-"
   ]
  },
  {
   "cell_type": "markdown",
   "id": "36732417-0951-4573-8d31-37ebc26a7f52",
   "metadata": {},
   "source": [
    "The t-test and z-test are both hypothesis tests used to compare means between two groups or populations"
   ]
  },
  {
   "cell_type": "markdown",
   "id": "9f6d001e-e648-474d-855f-9ec8f4e758c6",
   "metadata": {},
   "source": [
    "Scenario for using t test: Consider a scenario where we want to compare the average test scores of two groups of students (Group A and Group B) who received different teaching methods. If the sample sizes of both groups are small (e.g., n < 30) and the population standard deviations of test scores are unknown, we can use a two-sample t-test (also known as an independent t-test) to determine if there is a significant difference in the average test scores between the two groups.\n",
    "\n",
    "Scenario for using Z test:\n",
    "\n",
    "Suppose we want to compare the average weight of male students in a school to the average weight of male students across all schools in the country. If we have a large enough random sample (n ≥ 30) of male students from the school, and the population standard deviation of male students' weights across all schools is known, we can use a z-test to determine if the average weight of male students in the school is significantly different from the national average."
   ]
  },
  {
   "cell_type": "markdown",
   "id": "7fb53f44-ced6-419f-a5d8-50ff598eb5ec",
   "metadata": {},
   "source": [
    "Answer 2:-"
   ]
  },
  {
   "cell_type": "markdown",
   "id": "7313a389-7acd-4a23-aa46-34fdb3af75ca",
   "metadata": {},
   "source": [
    "The main difference between one-tailed and two-tailed tests is the directionality of the hypothesis being tested.\n",
    "\n",
    "One-tailed tests are used when we have a specific directional expectation\n",
    "Two-tailed tests are used when we are interested in detecting a significant difference in any direction."
   ]
  },
  {
   "cell_type": "markdown",
   "id": "94f85f29-ccc8-4f21-b88d-bc2cffa5d256",
   "metadata": {},
   "source": [
    "Answer 3:-"
   ]
  },
  {
   "cell_type": "markdown",
   "id": "04caa0df-e414-4a93-9c0d-59b621b9ef8d",
   "metadata": {},
   "source": [
    "Type 1 and Type 2 errors are the mistakes which occur when making decisions based on statsistical tests.\n"
   ]
  },
  {
   "cell_type": "markdown",
   "id": "618c7640-e282-4714-9ccb-91d433934960",
   "metadata": {},
   "source": [
    "\n",
    "Type 1 Error (False Positive):\n",
    "Type 1 error occurs when we indirectly reject a true null hypothesis.\n",
    "\n",
    "We conclude based on statistical tests that is a significant effect or difference but in reality, there is no such effect or difference in the population.\n",
    "Example : Suppose we are testing a new drugs effectiveness on a medical condition.\n",
    "\n",
    "Null Hypothesis : The drug has no effect on medical condition\n",
    "Alternate Hypothesis :The drug is effective on treating the medical condition"
   ]
  },
  {
   "cell_type": "markdown",
   "id": "fede1b09-3950-4348-be7d-5ba48f4a9320",
   "metadata": {},
   "source": [
    "Type 2 Error occurs when we fail to reject a false null hypothesis.\n",
    "\n",
    "We conclude that there is no significant effect or difference but in reality,there is a significant difference or effect in the population.\n",
    "Example :\n",
    "\n",
    "Null Hypothesis : The drug has no effect on medical condition\n",
    "True Alternate Hypothesis : The drug is effective on treating the medical condition"
   ]
  },
  {
   "cell_type": "markdown",
   "id": "2384971e-7694-440d-8542-876015de2419",
   "metadata": {},
   "source": [
    "Answer 4:-"
   ]
  },
  {
   "cell_type": "markdown",
   "id": "dc52c53b-df6a-4aa0-ae39-f9e8dd402a6b",
   "metadata": {},
   "source": [
    "Bayes's theorem is named after the mathematician Thomas Bayes\n",
    "It allows us to update the probability of an event occurring based on new evidence or informations\n",
    "Bayes's theorem is particularly useful in the context of conditional probabilities.\n",
    "Formula for Bayes theorem is :\n",
    "\n",
    "P(A|B) = (P(B|A) * P(A)) / P(B)\n",
    "\n",
    "Given that P(B) ≠ 0\n",
    "\n",
    "Example:\n",
    "\n",
    "A bag I contains 4 white and 6 black balls while another Bag II contains 4 white and 3 black balls. One ball is drawn at random from one of the bags, and it is found to be black. Find the probability that it was drawn from Bag I.\n",
    "\n",
    "Solution:\n",
    "\n",
    "Let E1 be the event of choosing bag I, E2 the event of choosing bag II, and A be the event of drawing a black ball.\n",
    "\n",
    "Then,\n",
    "\n",
    "P(E1) = P(E2) = 1/2\n",
    "\n",
    "Also, P(A|E1) = P(drawing a black ball from Bag I) = 6/10 = 3/5\n",
    "\n",
    "P(A|E2) = P(drawing a black ball from Bag II) = 3/7\n",
    "\n",
    "By using Bayes’ theorem, the probability of drawing a black ball from bag I out of two bags,\n",
    "\n",
    "\n",
    "P(E1|A) = (P(A|E1) * P(E1)) / P(A)\n",
    "P(E1|A) = (P(A|E1) * P(E1)) / (P(A|E1) * P(E1)) + (P(A|E2) * P(E2))\n",
    "P(E1|A) = (3/51/2) / ((3/51/2) + (3/7*1/2))\n",
    "P(E1|A) = 7/12\n",
    "P(E1|A) = 0.583\n",
    "\n",
    "Hence the probability of the black ball drawn is from Bag 1 is 0.583"
   ]
  },
  {
   "cell_type": "markdown",
   "id": "bf92ed65-e32e-4efa-9d21-789be0f45dfe",
   "metadata": {},
   "source": [
    "Answer 5:-"
   ]
  },
  {
   "cell_type": "markdown",
   "id": "60405bb3-be08-41f9-b2c5-2ed4ae05d16a",
   "metadata": {},
   "source": [
    "A confidence interval is a statsistical range that provides an estimate of the possible values of the unknowm population parameter such as mean,popotion or the standard deviation.\n",
    "\n",
    "It is used to quantify the uncerainity associated with the sample based estimates and to express the level of confidence we have in the the accuracy of the estimate\n",
    "\n",
    "Confidence Interval = Sample Mean ± Z * (σ / √n)\n",
    "\n",
    "Example :\n",
    "Suppose we want to estimate the average height of all students in a particular school. We take a random sample of 50 students and measure their heights. The sample mean height is 165 cm, and the sample standard deviation is 8 cm.\n",
    "\n",
    "We want to calculate a 95% confidence interval for the true average height of all students in the school.\n",
    "\n",
    "Since population standard deviation is not known we will use t test\n",
    "\n",
    "For 95% CI with alpha =0.05 and degree of freedom = 49 (n-1) t value is approximately 2.009\n",
    "\n",
    "CI = 165 ± 2.009 * (8/√50) CI = 165 ± 2.84\n",
    "\n",
    "The 95% Confidence Interval for the population mean height is approximately (162.16,167.84)\n",
    "\n",
    "This means we can be 95% confident that the true average height of all students in the school falls within this interval."
   ]
  },
  {
   "cell_type": "markdown",
   "id": "98f89d0a-9220-4625-8fd0-f59013453bdc",
   "metadata": {},
   "source": [
    "Answer 6:-"
   ]
  },
  {
   "cell_type": "markdown",
   "id": "d594227e-69a5-45dc-8be0-456cd61a8b41",
   "metadata": {},
   "source": [
    "Let's define the events:\n",
    "\n",
    "A: The first marble drawn is red.\n",
    "B: The second marble drawn is red.\n",
    "We are given the prior probabilities:\n",
    "\n",
    "\n",
    "P(A) = Probability of drawing a red marble on the first draw = 30/100 = 0.3\n",
    "P(B|A) = Probability of drawing a red marble on the second draw given that the first marble was red = 29/99 (since there is one less red marble and one less total marble after the first draw)\n",
    "\n",
    "Using Bayes' Theorem:\n",
    "\n",
    "P(A|B) = (P(B|A) * P(A)) / P(B)\n",
    "\n",
    "\n",
    "P(B) can be calculated using the law of total probability:\n",
    "P(B) = P(B|A) * P(A) + P(B|¬A) * P(¬A)\n",
    "\n",
    "\n",
    "P(B|¬A) = Probability of drawing a red marble on the second draw given that the first marble was not red = 30/99\n",
    "(since there are 30 red marbles and 99 total marbles after the first draw)\n",
    "P(¬A) = Probability of not drawing a red marble on the first draw = 1 - P(A) = 1 - 0.3 = 0.7\n",
    "\n",
    "Now, we can calculate P(B):\n",
    "\n",
    "P(B) = (29/99 * 0.3) + (30/99 * 0.7) ≈ 0.3131\n",
    "\n",
    "Finally, we can calculate P(A|B):\n",
    "\n",
    "P(A|B) = (29/99 * 0.3) / 0.3131 ≈ 0.2782\n",
    "\n",
    "So, the probability that the first marble drawn was red (Event A) given that the second marble drawn is red (Event B) is approximately 0.2782 or 27.82%"
   ]
  },
  {
   "cell_type": "markdown",
   "id": "6a40ed1a-611e-443b-98f1-690a9c01e0e5",
   "metadata": {},
   "source": [
    "Answer 7:-"
   ]
  },
  {
   "cell_type": "code",
   "execution_count": 2,
   "id": "8eb77c22-f4c0-40f9-ae6c-32548e96f3a0",
   "metadata": {},
   "outputs": [
    {
     "name": "stdout",
     "output_type": "stream",
     "text": [
      "t statistic for significance level 0.050 for sample size of 50 is : 2.01\n",
      "The 95% confidence interval is (48.58, 51.42)\n"
     ]
    }
   ],
   "source": [
    "#Since population standard deviation is unkown we will use t test\n",
    "\n",
    "import math\n",
    "import scipy.stats as stats\n",
    "\n",
    "# Define the sample mean, standard deviation, and sample size\n",
    "sample_mean = 50\n",
    "sample_std_dev = 5\n",
    "sample_size = 50\n",
    "\n",
    "# Signficance Level\n",
    "ci=0.95\n",
    "alpha = 1-ci\n",
    "dof=sample_size-1\n",
    "\n",
    "# Calculate the critical value for a 95% confidence interval\n",
    "t_crit = stats.t.ppf(1-alpha/2, df=dof)\n",
    "print(f't statistic for significance level {alpha:.3f} for sample size of {sample_size} is : {t_crit:.2f}')\n",
    "\n",
    "# Calculate the standard error\n",
    "std_error = sample_std_dev / math.sqrt(sample_size)\n",
    "\n",
    "# Calculate the lower and upper bounds of the confidence interval\n",
    "lower_bound = sample_mean - t_crit * std_error\n",
    "upper_bound = sample_mean + t_crit * std_error\n",
    "\n",
    "# Print the results\n",
    "print(f\"The 95% confidence interval is ({lower_bound:.2f}, {upper_bound:.2f})\")"
   ]
  },
  {
   "cell_type": "markdown",
   "id": "0d108d30-3763-475c-bfed-352003c10e3c",
   "metadata": {},
   "source": [
    "Answer 8:-"
   ]
  },
  {
   "cell_type": "markdown",
   "id": "52109e8c-a87f-4f2a-ab87-6b621459eb1a",
   "metadata": {},
   "source": [
    "The margin of error in a confidence interval is the range of values around the sample statistic (such as the sample mean) within which we expect the true population parameter (such as the population mean) to lie with a certain level of confidence. The margin of error is affected by the sample size, level of confidence, and standard deviation of the population.\n",
    "\n",
    "    Suppose we want to estimate the average time spent by students studying for a particular exam. We take two samples, one with 50 students (Sample A) and another with 500 students (Sample B). We calculate the sample mean and standard deviation for each sample.\n",
    "\n",
    "Sample A: Sample Mean = 4 hours, Sample Standard Deviation = 1 hour, Sample Size (n) = 50\n",
    "Sample B: Sample Mean = 4 hours, Sample Standard Deviation = 1 hour, Sample Size (n) = 500\n",
    "\n",
    "Assuming a 95% confidence level, we can calculate the margin of error for each sample using the appropriate critical value (Z or t):\n",
    "\n",
    "For Sample A:\n",
    "\n",
    "Margin of Error = Z * (σ / √n) = Z * (1 / √50) ≈ 0.181 (Let's assume Z = 1.96 for a 95% confidence level.)\n",
    "\n",
    "For Sample B:\n",
    "\n",
    "Margin of Error = Z * (σ / √n) = Z * (1 / √500) ≈ 0.045 (Let's assume Z = 1.96 for a 95% confidence level.)\n",
    "\n",
    "From the example we notice the margin of error for Sample B (larger sample size) is significantly smaller than the margin of error for Sample A."
   ]
  },
  {
   "cell_type": "markdown",
   "id": "84094bf8-ee8d-4bda-9a05-b6e567f8bcc6",
   "metadata": {},
   "source": [
    "Answer 9:-"
   ]
  },
  {
   "cell_type": "code",
   "execution_count": 3,
   "id": "494bc570-fc18-4d04-a616-796985f087ea",
   "metadata": {},
   "outputs": [
    {
     "name": "stdout",
     "output_type": "stream",
     "text": [
      "The Z score is  : 1.0\n"
     ]
    }
   ],
   "source": [
    "#For Z score \n",
    "x = 75\n",
    "pop_mean = 70\n",
    "pop_std = 5\n",
    "\n",
    "z = (x - pop_mean) / (pop_std)\n",
    "\n",
    "print(f\"The Z score is  : {z}\")"
   ]
  },
  {
   "cell_type": "markdown",
   "id": "84e6f004-6de1-4912-a86d-1b9a442cd5cc",
   "metadata": {},
   "source": [
    "Answer 10:-"
   ]
  },
  {
   "cell_type": "code",
   "execution_count": 4,
   "id": "a593a9c5-2a9f-4e33-a3cd-1b82e56dea39",
   "metadata": {},
   "outputs": [
    {
     "name": "stdout",
     "output_type": "stream",
     "text": [
      "t-statistic: 16.970562748477143\n",
      "p-value: 0.0\n",
      "Reject the null hypothesis. The drug is significantly effective on the body.\n"
     ]
    }
   ],
   "source": [
    "import math\n",
    "from scipy.stats import t\n",
    "\n",
    "null_hypothesis = \"The drug has no effect on the body\"\n",
    "alternate_hypothesis = \"The drug is significantly effective on the body\"\n",
    "\n",
    "mu = 0 #assumed to be 0 under null hypothesis\n",
    "sample_size =50 \n",
    "sample_mean=6\n",
    "sample_std = 2.5\n",
    "ci =0.95\n",
    "alpha = 1-ci\n",
    "dof = sample_size-1\n",
    "\n",
    "t_score = (sample_mean - mu) / (sample_std / math.sqrt(sample_size))\n",
    "p_value = 2 * (1 - t.cdf((t_score), df=dof))\n",
    "\n",
    "# Compare p-value with alpha and make a conclusion\n",
    "print(f\"t-statistic: {t_score}\")\n",
    "print(f\"p-value: {p_value}\")\n",
    "if p_value < alpha:\n",
    "    print(f\"Reject the null hypothesis. {alternate_hypothesis}.\")\n",
    "else:\n",
    "    print(f\"Fail to reject the null hypothesis. {null_hypothesis}.\")"
   ]
  },
  {
   "cell_type": "markdown",
   "id": "47e6323f-4341-4262-a029-ff0abf84dbfe",
   "metadata": {},
   "source": [
    "Answer 11:-"
   ]
  },
  {
   "cell_type": "code",
   "execution_count": 6,
   "id": "36c519ff-1c93-49ab-8e98-7d74861613f5",
   "metadata": {},
   "outputs": [
    {
     "name": "stdout",
     "output_type": "stream",
     "text": [
      "For 95 % Confidence Interval the true proption Of people satisfied with thier job are (0.608 , 0.692)\n",
      "The pecentage proption of people satisifed with thier job are ( 60.819% , 69.181% )\n"
     ]
    }
   ],
   "source": [
    "n = 500\n",
    "p=0.65\n",
    "z = 1.96 #for 95% ci\n",
    "\n",
    "ci_upper = p + z * math.sqrt(p*(1-p)/n)\n",
    "ci_lower = p - z * math.sqrt(p*(1-p)/n)\n",
    "\n",
    "print(f\"For 95 % Confidence Interval the true proption Of people satisfied with thier job are ({ci_lower:.3f} , {ci_upper:.3f})\")\n",
    "print(f\"The pecentage proption of people satisifed with thier job are ( {ci_lower*100:.3f}% , {ci_upper*100:.3f}% )\")"
   ]
  },
  {
   "cell_type": "markdown",
   "id": "47e75b6b-b1a4-488d-af40-c2f8a42c4b70",
   "metadata": {},
   "source": [
    "Answer 12:-"
   ]
  },
  {
   "cell_type": "code",
   "execution_count": 7,
   "id": "f4a1f913-ceed-4b4f-88b1-821719119ca4",
   "metadata": {},
   "outputs": [
    {
     "name": "stdout",
     "output_type": "stream",
     "text": [
      "t-statistic: 2.104\n",
      "Critical t-value: 2.663\n",
      "p-value: 0.040\n",
      "Fail to reject null hypothesis.\n",
      "Final Conclusion :  The teaching methods of A and B do not have a significant difference in student performance\n"
     ]
    }
   ],
   "source": [
    "import math\n",
    "from scipy.stats import t\n",
    "null_hypothesis = \"The teaching methods of A and B do not have a significant difference in student performance\"\n",
    "# null hypothesis μA - μB = 0 \n",
    "alternate_hypothesis = \"The teaching methods of A and B have a significant difference in student performance\"\n",
    "#alternate hypothesis μA - μB ≠ 0.\n",
    "\n",
    "#Sample A\n",
    "mean1 =85\n",
    "std1 =6\n",
    "\n",
    "#Sample B\n",
    "mean2=82\n",
    "std2=5\n",
    "\n",
    "alpha =0.01\n",
    "#since sample sizes of a and b are not given assuming both are 30 and equal\n",
    "n1 = 30\n",
    "n2 = 30\n",
    "#degree of freedom\n",
    "df = n1 + n2 -2\n",
    "\n",
    "#Pooled Standard Error = √[( (Sample A Standard Deviation)^2 / Sample A Size) + ( (Sample B Standard Deviation)^2 / Sample B Size )]\n",
    "# Calculate pooled standard deviation\n",
    "sp = math.sqrt(((std1 ** 2) / n1) + ((std2 ** 2) / n2))\n",
    "\n",
    "# Calculate t-statistic\n",
    "#t = (Sample A Mean - Sample B Mean) / Pooled Standard Error\n",
    "t_stat = (mean1 - mean2) / sp\n",
    "\n",
    "# Calculate critical t-value\n",
    "t_crit = t.ppf(1-alpha / 2, df)\n",
    "\n",
    "# Calculate p-value\n",
    "p_value = 2 * (1 - t.cdf(t_stat, df))\n",
    "\n",
    "# Print results\n",
    "print(f\"t-statistic: {t_stat:.3f}\")\n",
    "print(f\"Critical t-value: {t_crit:.3f}\")\n",
    "print(f\"p-value: {p_value:.3f}\")\n",
    "\n",
    "if abs(t_stat) > t_crit:\n",
    "    print(\"Reject null hypothesis.\")\n",
    "    print(\"Final Conclusion : \",alternate_hypothesis)\n",
    "else:\n",
    "    print(\"Fail to reject null hypothesis.\")\n",
    "    print(\"Final Conclusion : \" ,null_hypothesis)"
   ]
  },
  {
   "cell_type": "markdown",
   "id": "a2da60f2-76ca-4c29-bc2b-517fe7ba9fc0",
   "metadata": {},
   "source": [
    "Answer 13:-"
   ]
  },
  {
   "cell_type": "code",
   "execution_count": 8,
   "id": "334cf0cf-0518-4113-94aa-c0f72e149326",
   "metadata": {},
   "outputs": [
    {
     "name": "stdout",
     "output_type": "stream",
     "text": [
      "Z - Value : 1.6448536269514722\n",
      "90% Confidence Interval: (63.139, 66.861)\n"
     ]
    }
   ],
   "source": [
    "from scipy.stats import norm\n",
    "import math\n",
    "\n",
    "pop_mean = 60\n",
    "pop_std =8\n",
    "n=50\n",
    "sample_mean=65\n",
    "ci =0.90\n",
    "alpha =1-ci\n",
    "\n",
    "z_critical = norm.ppf(1 - (1 - ci) / 2)\n",
    "\n",
    "margin_of_error = z_critical*(pop_std/math.sqrt(n))\n",
    "\n",
    "# Calculate the lower and upper bounds of the confidence interval\n",
    "lower_bound = sample_mean - margin_of_error\n",
    "upper_bound = sample_mean + margin_of_error\n",
    "\n",
    "\n",
    "print(\"Z - Value :\",z_critical)\n",
    "print(f\"90% Confidence Interval: ({lower_bound:.3f}, {upper_bound:.3f})\")"
   ]
  },
  {
   "cell_type": "markdown",
   "id": "c036d679-62a6-4873-963c-045f93a8fe3d",
   "metadata": {},
   "source": [
    "Answer 14:-"
   ]
  },
  {
   "cell_type": "code",
   "execution_count": 9,
   "id": "ef9947a4-72b2-4a97-85eb-580be68b095b",
   "metadata": {},
   "outputs": [
    {
     "name": "stdout",
     "output_type": "stream",
     "text": [
      "t-statistic :  0.0\n",
      "t-critical :  1.6991270265334972\n",
      "At 90% Confidence Interval the bounds are : ( 0.2344891633250154 , 0.2655108366749846 )\n",
      "Failed to Reject the null hypothesis\n",
      "Final Conculsion :  Caffiene has no significant effect on reaction time equal to 0.25 sec\n"
     ]
    }
   ],
   "source": [
    "import math\n",
    "from scipy.stats import t\n",
    "\n",
    "null_hypothesis = \"Caffiene has no significant effect on reaction time equal to 0.25 sec\"\n",
    "alternate_hypothesis = \"Caffiene has significant effect on reaction time equal to 0.25 sec\"\n",
    "n=30\n",
    "sample_mean=0.25\n",
    "sample_std=0.05\n",
    "pop_mean = 0.25 #from null hypothesis\n",
    "ci = 0.90\n",
    "alpha = 1-ci\n",
    "df = n-1\n",
    "\n",
    "#t = (Sample Mean - Population Mean) / (Sample Standard Deviation / √Sample Size)\n",
    "t_stat = (sample_mean - pop_mean)/(sample_std/math.sqrt(n))\n",
    "\n",
    "# Calculate the critical t-value\n",
    "t_crit = stats.t.ppf(1-alpha/2,df)\n",
    "\n",
    "# Calculate the confidence interval\n",
    "margin_of_error = t_crit * (sample_std / math.sqrt(n))\n",
    "lower_ci = sample_mean - margin_of_error\n",
    "upper_ci = sample_mean + margin_of_error\n",
    "\n",
    "print(\"t-statistic : \",t_stat)\n",
    "print(\"t-critical : \",t_crit)\n",
    "print(f\"At 90% Confidence Interval the bounds are : ( {lower_ci} , {upper_ci} )\" )\n",
    "\n",
    "if t_stat > t_crit:\n",
    "    print(\"Reject the null hypothesis\")\n",
    "    print(\"Final Conculsion : \",alternate_hypothesis)\n",
    "    \n",
    "else:\n",
    "    print(\"Failed to Reject the null hypothesis\")\n",
    "    print(\"Final Conculsion : \",null_hypothesis)"
   ]
  },
  {
   "cell_type": "code",
   "execution_count": null,
   "id": "83fb6094-0004-4d96-91a8-f2c6b512dea2",
   "metadata": {},
   "outputs": [],
   "source": []
  }
 ],
 "metadata": {
  "kernelspec": {
   "display_name": "Python 3 (ipykernel)",
   "language": "python",
   "name": "python3"
  },
  "language_info": {
   "codemirror_mode": {
    "name": "ipython",
    "version": 3
   },
   "file_extension": ".py",
   "mimetype": "text/x-python",
   "name": "python",
   "nbconvert_exporter": "python",
   "pygments_lexer": "ipython3",
   "version": "3.12.4"
  }
 },
 "nbformat": 4,
 "nbformat_minor": 5
}
